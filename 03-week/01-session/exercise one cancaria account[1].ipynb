{
  "cells": [
    {
      "cell_type": "code",
      "execution_count": null,
      "metadata": {
        "id": "rwKBYw6-OdxL"
      },
      "outputs": [],
      "source": [
        "# Crear una instancia de Cuentabancaria\n",
        "mi_cuenta = Cuentabancaria(titular=\"Juan Pérez\", saldo_inicial=1000.0)\n",
        "\n",
        "# Mostrar el saldo inicial\n",
        "print(f\"Saldo inicial de {mi_cuenta.titular}: {mi_cuenta.saldo:.2f}\")\n",
        "\n",
        "# Realizar un depósito\n",
        "mi_cuenta.depositar(500.0)\n",
        "print(f\"Saldo después del depósito: {mi_cuenta.saldo:.2f}\")\n",
        "\n",
        "# Realizar un retiro\n",
        "try:\n",
        "    mi_cuenta.retirar(200.0)\n",
        "    print(f\"Saldo después del retiro: {mi_cuenta.saldo:.2f}\")\n",
        "except ValueError as e:\n",
        "    print(f\"Error al retirar: {e}\")\n",
        "\n",
        "# Intentar un retiro mayor al saldo\n",
        "try:\n",
        "    mi_cuenta.retirar(2000.0)\n",
        "except ValueError as e:\n",
        "    print(f\"Error al intentar retirar más del saldo: {e}\")\n",
        "\n",
        "# Mostrar el historial de transacciones\n",
        "print(\"\\nHistorial de transacciones:\")\n",
        "for transaccion in mi_cuenta.historial:\n",
        "    print(f\"- {transaccion}\")\n",
        "#La clase CuentaBancaria gestiona una cuenta con titular, saldo e historial\n",
        "#Valida que el saldo inicial no sea negativo. Permite depositar y retirar dinero con validaciones, registrando cada movimiento.\n",
        "#Su método __repr__ muestra el titular y el saldo."
      ]
    },
    {
      "cell_type": "markdown",
      "metadata": {
        "id": "0vfNfvFwbJB4"
      },
      "source": []
    }
  ],
  "metadata": {
    "colab": {
      "provenance": []
    },
    "kernelspec": {
      "display_name": "Python 3",
      "name": "python3"
    },
    "language_info": {
      "name": "python"
    }
  },
  "nbformat": 4,
  "nbformat_minor": 0
}
